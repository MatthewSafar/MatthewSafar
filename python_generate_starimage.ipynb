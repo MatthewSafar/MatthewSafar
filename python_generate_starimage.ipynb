{
  "nbformat": 4,
  "nbformat_minor": 0,
  "metadata": {
    "colab": {
      "provenance": [],
      "authorship_tag": "ABX9TyNCC288e+QqxFfCRgMNK+e+"
    },
    "kernelspec": {
      "name": "python3",
      "display_name": "Python 3"
    },
    "language_info": {
      "name": "python"
    }
  },
  "cells": [
    {
      "cell_type": "code",
      "source": [
        "%%capture\n",
        "pip install astroquery"
      ],
      "metadata": {
        "colab": {
          "base_uri": "https://localhost:8080/"
        },
        "id": "57Uc_QsqdAWV",
        "outputId": "f5836655-e420-4c7d-b432-325f00e422d0"
      },
      "execution_count": 2,
      "outputs": [
        {
          "output_type": "stream",
          "name": "stdout",
          "text": [
            "Collecting astroquery\n",
            "  Downloading astroquery-0.4.7-py3-none-any.whl.metadata (7.2 kB)\n",
            "Requirement already satisfied: numpy>=1.18 in /usr/local/lib/python3.10/dist-packages (from astroquery) (1.26.4)\n",
            "Requirement already satisfied: astropy>=4.2.1 in /usr/local/lib/python3.10/dist-packages (from astroquery) (6.1.4)\n",
            "Requirement already satisfied: requests>=2.19 in /usr/local/lib/python3.10/dist-packages (from astroquery) (2.32.3)\n",
            "Requirement already satisfied: beautifulsoup4>=4.8 in /usr/local/lib/python3.10/dist-packages (from astroquery) (4.12.3)\n",
            "Requirement already satisfied: html5lib>=0.999 in /usr/local/lib/python3.10/dist-packages (from astroquery) (1.1)\n",
            "Requirement already satisfied: keyring>=15.0 in /usr/lib/python3/dist-packages (from astroquery) (23.5.0)\n",
            "Collecting pyvo>=1.1 (from astroquery)\n",
            "  Downloading pyvo-1.5.3-py3-none-any.whl.metadata (4.7 kB)\n",
            "Requirement already satisfied: pyerfa>=2.0.1.1 in /usr/local/lib/python3.10/dist-packages (from astropy>=4.2.1->astroquery) (2.0.1.4)\n",
            "Requirement already satisfied: astropy-iers-data>=0.2024.8.27.10.28.29 in /usr/local/lib/python3.10/dist-packages (from astropy>=4.2.1->astroquery) (0.2024.10.14.0.32.55)\n",
            "Requirement already satisfied: PyYAML>=3.13 in /usr/local/lib/python3.10/dist-packages (from astropy>=4.2.1->astroquery) (6.0.2)\n",
            "Requirement already satisfied: packaging>=19.0 in /usr/local/lib/python3.10/dist-packages (from astropy>=4.2.1->astroquery) (24.1)\n",
            "Requirement already satisfied: soupsieve>1.2 in /usr/local/lib/python3.10/dist-packages (from beautifulsoup4>=4.8->astroquery) (2.6)\n",
            "Requirement already satisfied: six>=1.9 in /usr/local/lib/python3.10/dist-packages (from html5lib>=0.999->astroquery) (1.16.0)\n",
            "Requirement already satisfied: webencodings in /usr/local/lib/python3.10/dist-packages (from html5lib>=0.999->astroquery) (0.5.1)\n",
            "Requirement already satisfied: charset-normalizer<4,>=2 in /usr/local/lib/python3.10/dist-packages (from requests>=2.19->astroquery) (3.4.0)\n",
            "Requirement already satisfied: idna<4,>=2.5 in /usr/local/lib/python3.10/dist-packages (from requests>=2.19->astroquery) (3.10)\n",
            "Requirement already satisfied: urllib3<3,>=1.21.1 in /usr/local/lib/python3.10/dist-packages (from requests>=2.19->astroquery) (2.2.3)\n",
            "Requirement already satisfied: certifi>=2017.4.17 in /usr/local/lib/python3.10/dist-packages (from requests>=2.19->astroquery) (2024.8.30)\n",
            "Downloading astroquery-0.4.7-py3-none-any.whl (5.3 MB)\n",
            "\u001b[2K   \u001b[90m━━━━━━━━━━━━━━━━━━━━━━━━━━━━━━━━━━━━━━━━\u001b[0m \u001b[32m5.3/5.3 MB\u001b[0m \u001b[31m35.1 MB/s\u001b[0m eta \u001b[36m0:00:00\u001b[0m\n",
            "\u001b[?25hDownloading pyvo-1.5.3-py3-none-any.whl (912 kB)\n",
            "\u001b[2K   \u001b[90m━━━━━━━━━━━━━━━━━━━━━━━━━━━━━━━━━━━━━━━━\u001b[0m \u001b[32m912.9/912.9 kB\u001b[0m \u001b[31m41.0 MB/s\u001b[0m eta \u001b[36m0:00:00\u001b[0m\n",
            "\u001b[?25hInstalling collected packages: pyvo, astroquery\n",
            "Successfully installed astroquery-0.4.7 pyvo-1.5.3\n"
          ]
        }
      ]
    },
    {
      "cell_type": "markdown",
      "source": [],
      "metadata": {
        "id": "rt9RWu2XdtyW"
      }
    },
    {
      "cell_type": "code",
      "execution_count": 3,
      "metadata": {
        "colab": {
          "base_uri": "https://localhost:8080/"
        },
        "id": "AVbJKGotckhh",
        "outputId": "f2d1e085-ef63-406d-bef6-ba2413f70773"
      },
      "outputs": [
        {
          "output_type": "stream",
          "name": "stdout",
          "text": [
            "hi\n",
            "          MAIN_ID                  RA           DEC      ...     COO_BIBCODE     SCRIPT_NUMBER_ID\n",
            "                                \"h:m:s\"       \"d:m:s\"    ...                                     \n",
            "---------------------------- ------------- ------------- ... ------------------- ----------------\n",
            "                   * alf CMa 06 45 08.9172 -16 42 58.017 ... 2007A&A...474..653V                1\n",
            "                 * alf CMa B 06 45 09.3041 -16 43 00.724 ... 2020yCat.1350....0G                1\n",
            "Gaia DR3 2947050466531872640 06 45 09.9513 -16 43 22.075 ... 2020yCat.1350....0G                1\n",
            "[TSA98] J064510.77-164237.51   06 45 10.77   -16 42 37.5 ... 1998AJ....115.2587T                1\n",
            "[TSA98] J064511.57-164240.56   06 45 11.57   -16 42 40.6 ... 1998AJ....115.2587T                1\n",
            "[TSA98] J064511.97-164240.59   06 45 11.97   -16 42 40.6 ... 1998AJ....115.2587T                1\n",
            "                [BCL2000]  7   06 45 10.34   -16 43 53.2 ... 2000A&A...360..991B                1\n",
            "[TSA98] J064510.48-164203.49   06 45 10.48   -16 42 03.5 ... 1998AJ....115.2587T                1\n",
            "                [BCL2000]  3   06 45 12.87   -16 43 19.4 ... 2000A&A...360..991B                1\n",
            "                         ...           ...           ... ...                 ...              ...\n",
            "                [BCL2000] 15   06 45 17.76   -16 41 00.5 ... 2000A&A...360..991B                1\n",
            "Gaia DR3 2947057338479481600 06 45 13.0101 -16 40 03.353 ... 2020yCat.1350....0G                1\n",
            "Gaia DR3 2947047202356748672 06 45 12.0291 -16 46 01.429 ... 2020yCat.1350....0G                1\n",
            "                [BCL2000] 23   06 44 56.94   -16 41 37.1 ... 2000A&A...360..991B                1\n",
            "Gaia DR3 2947050088574534912 06 44 56.9581 -16 44 22.104 ... 2020yCat.1350....0G                1\n",
            "                [BCL2000] 29   06 45 18.64   -16 40 45.5 ... 2000A&A...360..991B                1\n",
            "Gaia DR3 2947050088566166528 06 44 56.9966 -16 44 28.152 ... 2020yCat.1350....0G                1\n",
            "                [BCL2000] 27   06 44 56.94   -16 44 32.5 ... 2000A&A...360..991B                1\n",
            "Gaia DR3 2947056616924962688 06 45 21.1554 -16 40 19.588 ... 2020yCat.1350....0G                1\n",
            "Gaia DR2 2947056616924962304 06 45 20.4168 -16 40 07.397 ... 2020yCat.1350....0G                1\n",
            "Length = 55 rows\n"
          ]
        }
      ],
      "source": [
        "import astroquery.simbad as simbad\n",
        "\n",
        "\n",
        "print(\"hi\")\n",
        "result_table = simbad.Simbad.query_region(\"sirius\", radius=\"4m\")\n",
        "\n",
        "result_table.pprint()"
      ]
    }
  ]
}